{
 "cells": [
  {
   "cell_type": "code",
   "execution_count": 1,
   "metadata": {},
   "outputs": [
    {
     "name": "stdout",
     "output_type": "stream",
     "text": [
      "/Users/prcork/Georgetown/Fall2022/DS3/final_project\n"
     ]
    }
   ],
   "source": [
    "import pandas as pd\n",
    "\n",
    "# Path hack\n",
    "import os\n",
    "# change directory from the current Analysis folder to the top level folder for easier navigation\n",
    "os.chdir('../')\n",
    "# confirm we're at top level folder\n",
    "print(os.getcwd())\n",
    "\n",
    "# note that the %load_ext autoreload line only needs to be be run once\n",
    "%load_ext autoreload"
   ]
  },
  {
   "cell_type": "code",
   "execution_count": 2,
   "metadata": {},
   "outputs": [],
   "source": [
    "# import text analysis functions\n",
    "%autoreload\n",
    "from functions import text_analysis"
   ]
  },
  {
   "cell_type": "code",
   "execution_count": 3,
   "metadata": {},
   "outputs": [],
   "source": [
    "df = pd.read_csv(\"data/reddit_output.csv\")\n",
    "# subset to each subreddit\n",
    "dem = df.query(\"subreddit=='democrats'\").copy()\n",
    "con = df.query(\"subreddit=='conservative'\").copy()"
   ]
  },
  {
   "cell_type": "code",
   "execution_count": 10,
   "metadata": {},
   "outputs": [
    {
     "name": "stdout",
     "output_type": "stream",
     "text": [
      "Topic #0: vote, 2022, walker, say, abortion, herschel walker, herschel, man, think, year \n",
      "\n",
      "Topic #1: obama, fetterman, oz, michigan, pete, woman, florida, debate, georgia, million \n",
      "\n",
      "Topic #2: trump, judge, fraud, jan, donald, donald trump, order, video, men, violence \n",
      "\n",
      "Topic #3: people, republican, gop, just, midterm, new, vote, texas, lgbtq, plan \n",
      "\n",
      "Topic #4: pelosi, attack, early, news, security, social, cut, home, social security, nancy \n",
      "\n",
      "Topic #5: biden, poll, senate, state, dems, run, vance, day, democrat, like \n",
      "\n",
      "Topic #6: republicans, election, campaign, right, house, crime, maga, comment, truth, box \n",
      "\n",
      "Topic #7: democrats, race, republicans, senate, governor, ballot, nevada, supreme, supreme court, candidate \n",
      "\n",
      "Topic #8: cnn, family, president, politics, ad, cnn politics, big, school, california, twitter \n",
      "\n",
      "\n"
     ]
    }
   ],
   "source": [
    "# print top terms for each topic resulting from the LDA model\n",
    "text_analysis.process_text(dem.title,\n",
    "                           min_df=6,\n",
    "                           n_components=9,\n",
    "                           n_top_words=10)"
   ]
  },
  {
   "cell_type": "code",
   "execution_count": 11,
   "metadata": {},
   "outputs": [
    {
     "name": "stdout",
     "output_type": "stream",
     "text": [
      "Topic #0: fetterman, senate, race, debate, senate race, oz, win, calls, john, john fetterman \n",
      "\n",
      "Topic #1: paypal, want, video, time, misinformation, like, biden, said, president, jill \n",
      "\n",
      "Topic #2: desantis, florida, board, school, ron desantis, ron, dem, employees, cdc, wing \n",
      "\n",
      "Topic #3: democrat, wa, medium, candidate, year, lake, party, kari lake, kari, arizona \n",
      "\n",
      "Topic #4: new, says, america, york, new york, ukraine, gop, child, say, americans \n",
      "\n",
      "Topic #5: biden, warns, economy, threat, oil, gabbard, war, tulsi, tulsi gabbard, american \n",
      "\n",
      "Topic #6: white, joe, house, biden, joe biden, inflation, fight, tweet, white house, getting \n",
      "\n",
      "Topic #7: pelosi, paul, paul pelosi, attack, cnn, kanye, west, woke, kanye west, nancy \n",
      "\n",
      "Topic #8: covid, make, claim, climate, people, say, kid, amnesty, pandemic, clinton \n",
      "\n",
      "Topic #9: court, election, aoc, supreme court, supreme, office, mail, jan, pennsylvania, got \n",
      "\n",
      "Topic #10: fbi, life, pro, hunter, account, evidence, administration, obama, sex, biden \n",
      "\n",
      "Topic #11: left, judge, live, ha, jail, michigan, free, law, kamala, affirmative \n",
      "\n",
      "Topic #12: twitter, musk, elon, elon musk, fired, daily, daily wire, wire, report, takeover \n",
      "\n",
      "Topic #13: border, abrams, student, know, federal, stacey abrams, stacey, loan, student loan, group \n",
      "\n",
      "Topic #14: democrats, republicans, vote, democracy, trump, just, children, voting, woman, win \n",
      "\n",
      "\n"
     ]
    }
   ],
   "source": [
    "# repeat for conservative subreddit, using 15 topics for the larger dataset\n",
    "text_analysis.process_text(con.title,\n",
    "                           min_df=6,\n",
    "                           n_components=15,\n",
    "                           n_top_words=10)"
   ]
  }
 ],
 "metadata": {
  "kernelspec": {
   "display_name": "Python 3.8.8 ('base')",
   "language": "python",
   "name": "python3"
  },
  "language_info": {
   "codemirror_mode": {
    "name": "ipython",
    "version": 3
   },
   "file_extension": ".py",
   "mimetype": "text/x-python",
   "name": "python",
   "nbconvert_exporter": "python",
   "pygments_lexer": "ipython3",
   "version": "3.8.8"
  },
  "orig_nbformat": 4,
  "vscode": {
   "interpreter": {
    "hash": "40d3a090f54c6569ab1632332b64b2c03c39dcf918b08424e98f38b5ae0af88f"
   }
  }
 },
 "nbformat": 4,
 "nbformat_minor": 2
}
