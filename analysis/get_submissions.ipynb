{
 "cells": [
  {
   "cell_type": "code",
   "execution_count": 1,
   "metadata": {},
   "outputs": [
    {
     "name": "stdout",
     "output_type": "stream",
     "text": [
      "/Users/prcork/Georgetown/Fall2022/DS3/final_project\n"
     ]
    }
   ],
   "source": [
    "# import reddit api wrapper\n",
    "import praw\n",
    "import pandas as pd\n",
    "pd.options.display.float_format = '{:.2f}'.format\n",
    "import numpy as np\n",
    "\n",
    "import datetime\n",
    "import tldextract\n",
    "\n",
    "# Path hack\n",
    "import os\n",
    "# change directory from the current Analysis folder to the top level folder for easier navigation\n",
    "os.chdir('../')\n",
    "# confirm we're at the top level folder\n",
    "print(os.getcwd())\n",
    "\n",
    "# note that the %load_ext autoreload line only needs to be be run once\n",
    "%load_ext autoreload"
   ]
  },
  {
   "cell_type": "code",
   "execution_count": 2,
   "metadata": {},
   "outputs": [
    {
     "name": "stderr",
     "output_type": "stream",
     "text": [
      "Version 7.6.0 of praw is outdated. Version 7.6.1 was released Friday November 11, 2022.\n"
     ]
    }
   ],
   "source": [
    "%autoreload\n",
    "from functions import submissions"
   ]
  },
  {
   "cell_type": "code",
   "execution_count": 3,
   "metadata": {},
   "outputs": [
    {
     "name": "stdout",
     "output_type": "stream",
     "text": [
      "432051\n",
      "1019549\n"
     ]
    }
   ],
   "source": [
    "# display number of subscribers for both subreddits\n",
    "print(submissions.get_subscribers('democrats'))\n",
    "print(submissions.get_subscribers('conservative'))"
   ]
  },
  {
   "cell_type": "code",
   "execution_count": 4,
   "metadata": {},
   "outputs": [],
   "source": [
    "# get 1000 highest upvoted submissions from the last month\n",
    "dems = submissions.get_submissions(subreddit=\"democrats\", limit=1000)\n",
    "con = submissions.get_submissions(subreddit=\"conservative\", limit=1000)"
   ]
  },
  {
   "cell_type": "code",
   "execution_count": 5,
   "metadata": {},
   "outputs": [
    {
     "name": "stdout",
     "output_type": "stream",
     "text": [
      "r/democrats\n",
      "(782, 8)\n",
      "290.18158567774935\n",
      "31.812020460358056\n",
      "\n",
      "r/conservative\n",
      "(1000, 8)\n",
      "718.761\n",
      "221.111\n"
     ]
    }
   ],
   "source": [
    "# print stats to include in summary tables\n",
    "\n",
    "print(\"r/democrats\")\n",
    "print(dems.shape)\n",
    "print(dems.ups.mean())\n",
    "print(dems.num_comments.mean())\n",
    "print()\n",
    "print(\"r/conservative\")\n",
    "print(con.shape)\n",
    "print(con.ups.mean())\n",
    "print(con.num_comments.mean())\n"
   ]
  },
  {
   "cell_type": "code",
   "execution_count": 6,
   "metadata": {},
   "outputs": [],
   "source": [
    "# categorize and merge subreddits for preprocessing\n",
    "\n",
    "dems['subreddit'] = 'democrats'\n",
    "con['subreddit'] = 'conservative'\n",
    "\n",
    "df = pd.concat([dems, con])"
   ]
  },
  {
   "cell_type": "code",
   "execution_count": 7,
   "metadata": {},
   "outputs": [
    {
     "name": "stdout",
     "output_type": "stream",
     "text": [
      "(1782, 12)\n"
     ]
    },
    {
     "data": {
      "text/html": [
       "<div>\n",
       "<style scoped>\n",
       "    .dataframe tbody tr th:only-of-type {\n",
       "        vertical-align: middle;\n",
       "    }\n",
       "\n",
       "    .dataframe tbody tr th {\n",
       "        vertical-align: top;\n",
       "    }\n",
       "\n",
       "    .dataframe thead th {\n",
       "        text-align: right;\n",
       "    }\n",
       "</style>\n",
       "<table border=\"1\" class=\"dataframe\">\n",
       "  <thead>\n",
       "    <tr style=\"text-align: right;\">\n",
       "      <th></th>\n",
       "      <th>submission_id</th>\n",
       "      <th>title</th>\n",
       "      <th>created_utc</th>\n",
       "      <th>is_self</th>\n",
       "      <th>url</th>\n",
       "      <th>ups</th>\n",
       "      <th>upvote_ratio</th>\n",
       "      <th>num_comments</th>\n",
       "      <th>subreddit</th>\n",
       "      <th>date</th>\n",
       "      <th>image</th>\n",
       "      <th>domain</th>\n",
       "    </tr>\n",
       "  </thead>\n",
       "  <tbody>\n",
       "    <tr>\n",
       "      <th>0</th>\n",
       "      <td>yulby9</td>\n",
       "      <td>Louis DeJoy Can Be Fired As Biden Now Has A Ma...</td>\n",
       "      <td>1668390036.00</td>\n",
       "      <td>False</td>\n",
       "      <td>https://www.politicususa.com/2022/05/13/louis-...</td>\n",
       "      <td>19564</td>\n",
       "      <td>0.95</td>\n",
       "      <td>429</td>\n",
       "      <td>democrats</td>\n",
       "      <td>2022-11-14</td>\n",
       "      <td>0</td>\n",
       "      <td>politicususa</td>\n",
       "    </tr>\n",
       "    <tr>\n",
       "      <th>4</th>\n",
       "      <td>ysdxro</td>\n",
       "      <td>Another Friday Feel Good Moment...</td>\n",
       "      <td>1668181172.00</td>\n",
       "      <td>False</td>\n",
       "      <td>https://i.redd.it/yk9gw0l3vdz91.jpg</td>\n",
       "      <td>2794</td>\n",
       "      <td>0.97</td>\n",
       "      <td>103</td>\n",
       "      <td>democrats</td>\n",
       "      <td>2022-11-11</td>\n",
       "      <td>1</td>\n",
       "      <td>redd</td>\n",
       "    </tr>\n",
       "    <tr>\n",
       "      <th>318</th>\n",
       "      <td>z2oqij</td>\n",
       "      <td>Herschel Walker's 'erection' remark sparks tor...</td>\n",
       "      <td>1669209001.00</td>\n",
       "      <td>False</td>\n",
       "      <td>https://www.newsweek.com/herschel-walkers-erec...</td>\n",
       "      <td>155</td>\n",
       "      <td>0.98</td>\n",
       "      <td>24</td>\n",
       "      <td>democrats</td>\n",
       "      <td>2022-11-23</td>\n",
       "      <td>0</td>\n",
       "      <td>newsweek</td>\n",
       "    </tr>\n",
       "    <tr>\n",
       "      <th>341</th>\n",
       "      <td>z3hunt</td>\n",
       "      <td>Pennsylvania school district votes to defy law...</td>\n",
       "      <td>1669290204.00</td>\n",
       "      <td>False</td>\n",
       "      <td>https://www.foxnews.com/media/pennsylvania-sch...</td>\n",
       "      <td>596</td>\n",
       "      <td>0.86</td>\n",
       "      <td>80</td>\n",
       "      <td>conservative</td>\n",
       "      <td>2022-11-24</td>\n",
       "      <td>0</td>\n",
       "      <td>foxnews</td>\n",
       "    </tr>\n",
       "    <tr>\n",
       "      <th>582</th>\n",
       "      <td>z5jfmo</td>\n",
       "      <td>Georgia Supreme Court allows early voting on p...</td>\n",
       "      <td>1669500520.00</td>\n",
       "      <td>False</td>\n",
       "      <td>https://www.cnn.com/2022/11/23/politics/georgi...</td>\n",
       "      <td>36</td>\n",
       "      <td>1.00</td>\n",
       "      <td>1</td>\n",
       "      <td>democrats</td>\n",
       "      <td>2022-11-26</td>\n",
       "      <td>0</td>\n",
       "      <td>cnn</td>\n",
       "    </tr>\n",
       "  </tbody>\n",
       "</table>\n",
       "</div>"
      ],
      "text/plain": [
       "    submission_id                                              title  \\\n",
       "0          yulby9  Louis DeJoy Can Be Fired As Biden Now Has A Ma...   \n",
       "4          ysdxro                 Another Friday Feel Good Moment...   \n",
       "318        z2oqij  Herschel Walker's 'erection' remark sparks tor...   \n",
       "341        z3hunt  Pennsylvania school district votes to defy law...   \n",
       "582        z5jfmo  Georgia Supreme Court allows early voting on p...   \n",
       "\n",
       "      created_utc  is_self                                                url  \\\n",
       "0   1668390036.00    False  https://www.politicususa.com/2022/05/13/louis-...   \n",
       "4   1668181172.00    False                https://i.redd.it/yk9gw0l3vdz91.jpg   \n",
       "318 1669209001.00    False  https://www.newsweek.com/herschel-walkers-erec...   \n",
       "341 1669290204.00    False  https://www.foxnews.com/media/pennsylvania-sch...   \n",
       "582 1669500520.00    False  https://www.cnn.com/2022/11/23/politics/georgi...   \n",
       "\n",
       "       ups  upvote_ratio  num_comments     subreddit        date  image  \\\n",
       "0    19564          0.95           429     democrats  2022-11-14      0   \n",
       "4     2794          0.97           103     democrats  2022-11-11      1   \n",
       "318    155          0.98            24     democrats  2022-11-23      0   \n",
       "341    596          0.86            80  conservative  2022-11-24      0   \n",
       "582     36          1.00             1     democrats  2022-11-26      0   \n",
       "\n",
       "           domain  \n",
       "0    politicususa  \n",
       "4            redd  \n",
       "318      newsweek  \n",
       "341       foxnews  \n",
       "582           cnn  "
      ]
     },
     "execution_count": 7,
     "metadata": {},
     "output_type": "execute_result"
    }
   ],
   "source": [
    "# convert UTC to datetime, then store only date\n",
    "df['date'] = df['created_utc'].apply(lambda utc_entry: datetime.datetime.utcfromtimestamp(utc_entry))\n",
    "df['date'] = df['date'].dt.date\n",
    "df = df.query(\"date >= datetime.date(year=2022, month=8, day=1)\")\n",
    "\n",
    "# if the last four characters of the url are an image filetype, categorize the submission as an image\n",
    "df['image'] = np.where(df.url.str[-4:].isin(['.jpg', '.png', '.gif']), 1, 0)\n",
    "\n",
    "# split the url into sub, domain, and extension, store only domain\n",
    "df['domain'] = df['url'].apply(lambda x: tldextract.extract(x).domain)\n",
    "\n",
    "print(df.shape)\n",
    "df.sample(5)"
   ]
  },
  {
   "cell_type": "code",
   "execution_count": 8,
   "metadata": {},
   "outputs": [],
   "source": [
    "df.drop(['created_utc', 'url'], axis=1, inplace=True)\n",
    "df.to_csv(\"data/reddit_output.csv\", index=False)"
   ]
  }
 ],
 "metadata": {
  "kernelspec": {
   "display_name": "Python 3.8.8 ('base')",
   "language": "python",
   "name": "python3"
  },
  "language_info": {
   "codemirror_mode": {
    "name": "ipython",
    "version": 3
   },
   "file_extension": ".py",
   "mimetype": "text/x-python",
   "name": "python",
   "nbconvert_exporter": "python",
   "pygments_lexer": "ipython3",
   "version": "3.8.8"
  },
  "orig_nbformat": 4,
  "vscode": {
   "interpreter": {
    "hash": "40d3a090f54c6569ab1632332b64b2c03c39dcf918b08424e98f38b5ae0af88f"
   }
  }
 },
 "nbformat": 4,
 "nbformat_minor": 2
}
